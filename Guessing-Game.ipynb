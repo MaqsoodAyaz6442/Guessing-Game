{
 "cells": [
  {
   "cell_type": "code",
   "execution_count": 2,
   "id": "340ec4ce",
   "metadata": {},
   "outputs": [
    {
     "name": "stdout",
     "output_type": "stream",
     "text": [
      "Secret Number is  10\n"
     ]
    }
   ],
   "source": [
    "import random\n",
    "\n",
    "Secret_Number=random.randint(1, 50)\n",
    "print(\"Secret Number is \",Secret_Number)\n",
    "def Guess(Number=0):\n",
    "    print(\"---Welcome to the Guessing Game!---\")\n",
    "    Guess_Attempt=1\n",
    "    Attempt_left=5\n",
    "    while  Guess_Attempt<=5 :\n",
    "        print(\"Guess the secret number between 1 and 50\")\n",
    "        user_input=input(\"Enter your number: \")\n",
    "        try:\n",
    "            \n",
    "                \n",
    "            number=int(user_input)\n",
    "            if number!=Secret_Number:\n",
    "                if Guess_Attempt==5 and number!=Secret_Number:\n",
    "                    print(\"All guesses used. Game Over. The secret number is \",Secret_Number)\n",
    "                    break\n",
    "                \n",
    "                if number>Secret_Number:\n",
    "                    \n",
    "                    \n",
    "                    \n",
    "                    print(f\"Wrong guess! Enter Again. The guess is too high. You have {Attempt_left-Guess_Attempt} Attempts left\")\n",
    "                else:\n",
    "                    print(f\"Wrong guess! Enter Again. The guess is too low. You have  {Attempt_left-Guess_Attempt} Attempts left\")\n",
    "                Guess_Attempt+=1\n",
    "                \n",
    "                \n",
    "                \n",
    "            else:\n",
    "                print(\"Congratulations! you guessed it right \",number)\n",
    "                break\n",
    "            \n",
    "        except ValueError:\n",
    "            print(\"Invalid Input! Try Again \" )\n",
    "            continue\n",
    "        \n",
    "    if Guess_Attempt > 5 :\n",
    "        print(\"You have used all the guesses. The Game is over. The secret number is \",Secret_Number)"
   ]
  },
  {
   "cell_type": "code",
   "execution_count": 3,
   "id": "10704aee",
   "metadata": {},
   "outputs": [
    {
     "name": "stdout",
     "output_type": "stream",
     "text": [
      "---Welcome to the Guessing Game!---\n",
      "Guess the secret number between 1 and 50\n",
      "Enter your number: 14\n",
      "Wrong guess! Enter Again. The guess is too high. You have 4 Attempts left\n",
      "Guess the secret number between 1 and 50\n",
      "Enter your number: 9\n",
      "Wrong guess! Enter Again. The guess is too low. You have  3 Attempts left\n",
      "Guess the secret number between 1 and 50\n",
      "Enter your number: 50\n",
      "Wrong guess! Enter Again. The guess is too high. You have 2 Attempts left\n",
      "Guess the secret number between 1 and 50\n",
      "Enter your number: 8\n",
      "Wrong guess! Enter Again. The guess is too low. You have  1 Attempts left\n",
      "Guess the secret number between 1 and 50\n",
      "Enter your number: 10\n",
      "Congratulations! you guessed it right  10\n"
     ]
    }
   ],
   "source": [
    "Guess()"
   ]
  },
  {
   "cell_type": "code",
   "execution_count": null,
   "id": "adc2ab84",
   "metadata": {},
   "outputs": [],
   "source": []
  }
 ],
 "metadata": {
  "kernelspec": {
   "display_name": "Python 3 (ipykernel)",
   "language": "python",
   "name": "python3"
  },
  "language_info": {
   "codemirror_mode": {
    "name": "ipython",
    "version": 3
   },
   "file_extension": ".py",
   "mimetype": "text/x-python",
   "name": "python",
   "nbconvert_exporter": "python",
   "pygments_lexer": "ipython3",
   "version": "3.11.5"
  }
 },
 "nbformat": 4,
 "nbformat_minor": 5
}
